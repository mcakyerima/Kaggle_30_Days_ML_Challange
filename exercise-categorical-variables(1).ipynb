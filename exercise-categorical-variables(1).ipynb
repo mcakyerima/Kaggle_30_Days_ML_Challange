{
 "cells": [
  {
   "cell_type": "markdown",
   "id": "554082d0",
   "metadata": {
    "papermill": {
     "duration": 0.034202,
     "end_time": "2021-08-24T21:34:27.175490",
     "exception": false,
     "start_time": "2021-08-24T21:34:27.141288",
     "status": "completed"
    },
    "tags": []
   },
   "source": [
    "**This notebook is an exercise in the [Intermediate Machine Learning](https://www.kaggle.com/learn/intermediate-machine-learning) course.  You can reference the tutorial at [this link](https://www.kaggle.com/alexisbcook/categorical-variables).**\n",
    "\n",
    "---\n"
   ]
  },
  {
   "cell_type": "markdown",
   "id": "7f3dae9a",
   "metadata": {
    "papermill": {
     "duration": 0.032722,
     "end_time": "2021-08-24T21:34:27.241886",
     "exception": false,
     "start_time": "2021-08-24T21:34:27.209164",
     "status": "completed"
    },
    "tags": []
   },
   "source": [
    "By encoding **categorical variables**, you'll obtain your best results thus far!\n",
    "\n",
    "# Setup\n",
    "\n",
    "The questions below will give you feedback on your work. Run the following cell to set up the feedback system."
   ]
  },
  {
   "cell_type": "code",
   "execution_count": 1,
   "id": "40006ce2",
   "metadata": {
    "execution": {
     "iopub.execute_input": "2021-08-24T21:34:27.311195Z",
     "iopub.status.busy": "2021-08-24T21:34:27.310024Z",
     "iopub.status.idle": "2021-08-24T21:34:27.502197Z",
     "shell.execute_reply": "2021-08-24T21:34:27.501413Z",
     "shell.execute_reply.started": "2021-08-24T21:26:23.803193Z"
    },
    "papermill": {
     "duration": 0.227894,
     "end_time": "2021-08-24T21:34:27.502378",
     "exception": false,
     "start_time": "2021-08-24T21:34:27.274484",
     "status": "completed"
    },
    "tags": []
   },
   "outputs": [
    {
     "name": "stdout",
     "output_type": "stream",
     "text": [
      "Setup Complete\n"
     ]
    }
   ],
   "source": [
    "# Set up code checking\n",
    "import os\n",
    "if not os.path.exists(\"../input/train.csv\"):\n",
    "    os.symlink(\"../input/home-data-for-ml-course/train.csv\", \"../input/train.csv\")  \n",
    "    os.symlink(\"../input/home-data-for-ml-course/test.csv\", \"../input/test.csv\") \n",
    "from learntools.core import binder\n",
    "binder.bind(globals())\n",
    "from learntools.ml_intermediate.ex3 import *\n",
    "print(\"Setup Complete\")"
   ]
  },
  {
   "cell_type": "markdown",
   "id": "fc692a2f",
   "metadata": {
    "papermill": {
     "duration": 0.032144,
     "end_time": "2021-08-24T21:34:27.567441",
     "exception": false,
     "start_time": "2021-08-24T21:34:27.535297",
     "status": "completed"
    },
    "tags": []
   },
   "source": [
    "In this exercise, you will work with data from the [Housing Prices Competition for Kaggle Learn Users](https://www.kaggle.com/c/home-data-for-ml-course). \n",
    "\n",
    "![Ames Housing dataset image](https://i.imgur.com/lTJVG4e.png)\n",
    "\n",
    "Run the next code cell without changes to load the training and validation sets in `X_train`, `X_valid`, `y_train`, and `y_valid`.  The test set is loaded in `X_test`."
   ]
  },
  {
   "cell_type": "code",
   "execution_count": 2,
   "id": "6693f64c",
   "metadata": {
    "execution": {
     "iopub.execute_input": "2021-08-24T21:34:27.643263Z",
     "iopub.status.busy": "2021-08-24T21:34:27.642594Z",
     "iopub.status.idle": "2021-08-24T21:34:28.756241Z",
     "shell.execute_reply": "2021-08-24T21:34:28.756768Z",
     "shell.execute_reply.started": "2021-08-24T21:26:34.613395Z"
    },
    "papermill": {
     "duration": 1.156007,
     "end_time": "2021-08-24T21:34:28.756982",
     "exception": false,
     "start_time": "2021-08-24T21:34:27.600975",
     "status": "completed"
    },
    "tags": []
   },
   "outputs": [
    {
     "name": "stdout",
     "output_type": "stream",
     "text": [
      "['LotFrontage', 'Alley', 'MasVnrType', 'MasVnrArea', 'BsmtQual', 'BsmtCond', 'BsmtExposure', 'BsmtFinType1', 'BsmtFinType2', 'Electrical', 'FireplaceQu', 'GarageType', 'GarageYrBlt', 'GarageFinish', 'GarageQual', 'GarageCond', 'PoolQC', 'Fence', 'MiscFeature']\n"
     ]
    }
   ],
   "source": [
    "import pandas as pd\n",
    "from sklearn.model_selection import train_test_split\n",
    "\n",
    "# Read the data\n",
    "X = pd.read_csv('../input/train.csv', index_col='Id') \n",
    "X_test = pd.read_csv('../input/test.csv', index_col='Id')\n",
    "\n",
    "\n",
    "# Remove rows with missing target, separate target from predictors\n",
    "X.dropna(axis=0, subset=['SalePrice'], inplace=True)\n",
    "y = X.SalePrice\n",
    "X.drop(['SalePrice'], axis=1, inplace=True)\n",
    "\n",
    "\n",
    "# To keep things simple, we'll drop columns with missing values\n",
    "cols_with_missing = [col for col in X.columns if X[col].isnull().any()] \n",
    "print(cols_with_missing)\n",
    "X.drop(cols_with_missing, axis=1, inplace=True)\n",
    "X_test.drop(cols_with_missing, axis=1, inplace=True)\n",
    "\n",
    "# Break off validation set from training data\n",
    "X_train, X_valid, y_train, y_valid = train_test_split(X, y,\n",
    "                                                      train_size=0.8, test_size=0.2,\n",
    "                                                      random_state=0)"
   ]
  },
  {
   "cell_type": "markdown",
   "id": "14cf0753",
   "metadata": {
    "papermill": {
     "duration": 0.032445,
     "end_time": "2021-08-24T21:34:28.823323",
     "exception": false,
     "start_time": "2021-08-24T21:34:28.790878",
     "status": "completed"
    },
    "tags": []
   },
   "source": [
    "Use the next code cell to print the first five rows of the data."
   ]
  },
  {
   "cell_type": "code",
   "execution_count": 3,
   "id": "e89b71ce",
   "metadata": {
    "execution": {
     "iopub.execute_input": "2021-08-24T21:34:28.898913Z",
     "iopub.status.busy": "2021-08-24T21:34:28.898197Z",
     "iopub.status.idle": "2021-08-24T21:34:28.927267Z",
     "shell.execute_reply": "2021-08-24T21:34:28.926706Z",
     "shell.execute_reply.started": "2021-08-24T21:26:38.620646Z"
    },
    "papermill": {
     "duration": 0.071302,
     "end_time": "2021-08-24T21:34:28.927414",
     "exception": false,
     "start_time": "2021-08-24T21:34:28.856112",
     "status": "completed"
    },
    "tags": []
   },
   "outputs": [
    {
     "data": {
      "text/html": [
       "<div>\n",
       "<style scoped>\n",
       "    .dataframe tbody tr th:only-of-type {\n",
       "        vertical-align: middle;\n",
       "    }\n",
       "\n",
       "    .dataframe tbody tr th {\n",
       "        vertical-align: top;\n",
       "    }\n",
       "\n",
       "    .dataframe thead th {\n",
       "        text-align: right;\n",
       "    }\n",
       "</style>\n",
       "<table border=\"1\" class=\"dataframe\">\n",
       "  <thead>\n",
       "    <tr style=\"text-align: right;\">\n",
       "      <th></th>\n",
       "      <th>MSSubClass</th>\n",
       "      <th>MSZoning</th>\n",
       "      <th>LotArea</th>\n",
       "      <th>Street</th>\n",
       "      <th>LotShape</th>\n",
       "      <th>LandContour</th>\n",
       "      <th>Utilities</th>\n",
       "      <th>LotConfig</th>\n",
       "      <th>LandSlope</th>\n",
       "      <th>Neighborhood</th>\n",
       "      <th>...</th>\n",
       "      <th>OpenPorchSF</th>\n",
       "      <th>EnclosedPorch</th>\n",
       "      <th>3SsnPorch</th>\n",
       "      <th>ScreenPorch</th>\n",
       "      <th>PoolArea</th>\n",
       "      <th>MiscVal</th>\n",
       "      <th>MoSold</th>\n",
       "      <th>YrSold</th>\n",
       "      <th>SaleType</th>\n",
       "      <th>SaleCondition</th>\n",
       "    </tr>\n",
       "    <tr>\n",
       "      <th>Id</th>\n",
       "      <th></th>\n",
       "      <th></th>\n",
       "      <th></th>\n",
       "      <th></th>\n",
       "      <th></th>\n",
       "      <th></th>\n",
       "      <th></th>\n",
       "      <th></th>\n",
       "      <th></th>\n",
       "      <th></th>\n",
       "      <th></th>\n",
       "      <th></th>\n",
       "      <th></th>\n",
       "      <th></th>\n",
       "      <th></th>\n",
       "      <th></th>\n",
       "      <th></th>\n",
       "      <th></th>\n",
       "      <th></th>\n",
       "      <th></th>\n",
       "      <th></th>\n",
       "    </tr>\n",
       "  </thead>\n",
       "  <tbody>\n",
       "    <tr>\n",
       "      <th>619</th>\n",
       "      <td>20</td>\n",
       "      <td>RL</td>\n",
       "      <td>11694</td>\n",
       "      <td>Pave</td>\n",
       "      <td>Reg</td>\n",
       "      <td>Lvl</td>\n",
       "      <td>AllPub</td>\n",
       "      <td>Inside</td>\n",
       "      <td>Gtl</td>\n",
       "      <td>NridgHt</td>\n",
       "      <td>...</td>\n",
       "      <td>108</td>\n",
       "      <td>0</td>\n",
       "      <td>0</td>\n",
       "      <td>260</td>\n",
       "      <td>0</td>\n",
       "      <td>0</td>\n",
       "      <td>7</td>\n",
       "      <td>2007</td>\n",
       "      <td>New</td>\n",
       "      <td>Partial</td>\n",
       "    </tr>\n",
       "    <tr>\n",
       "      <th>871</th>\n",
       "      <td>20</td>\n",
       "      <td>RL</td>\n",
       "      <td>6600</td>\n",
       "      <td>Pave</td>\n",
       "      <td>Reg</td>\n",
       "      <td>Lvl</td>\n",
       "      <td>AllPub</td>\n",
       "      <td>Inside</td>\n",
       "      <td>Gtl</td>\n",
       "      <td>NAmes</td>\n",
       "      <td>...</td>\n",
       "      <td>0</td>\n",
       "      <td>0</td>\n",
       "      <td>0</td>\n",
       "      <td>0</td>\n",
       "      <td>0</td>\n",
       "      <td>0</td>\n",
       "      <td>8</td>\n",
       "      <td>2009</td>\n",
       "      <td>WD</td>\n",
       "      <td>Normal</td>\n",
       "    </tr>\n",
       "    <tr>\n",
       "      <th>93</th>\n",
       "      <td>30</td>\n",
       "      <td>RL</td>\n",
       "      <td>13360</td>\n",
       "      <td>Pave</td>\n",
       "      <td>IR1</td>\n",
       "      <td>HLS</td>\n",
       "      <td>AllPub</td>\n",
       "      <td>Inside</td>\n",
       "      <td>Gtl</td>\n",
       "      <td>Crawfor</td>\n",
       "      <td>...</td>\n",
       "      <td>0</td>\n",
       "      <td>44</td>\n",
       "      <td>0</td>\n",
       "      <td>0</td>\n",
       "      <td>0</td>\n",
       "      <td>0</td>\n",
       "      <td>8</td>\n",
       "      <td>2009</td>\n",
       "      <td>WD</td>\n",
       "      <td>Normal</td>\n",
       "    </tr>\n",
       "    <tr>\n",
       "      <th>818</th>\n",
       "      <td>20</td>\n",
       "      <td>RL</td>\n",
       "      <td>13265</td>\n",
       "      <td>Pave</td>\n",
       "      <td>IR1</td>\n",
       "      <td>Lvl</td>\n",
       "      <td>AllPub</td>\n",
       "      <td>CulDSac</td>\n",
       "      <td>Gtl</td>\n",
       "      <td>Mitchel</td>\n",
       "      <td>...</td>\n",
       "      <td>59</td>\n",
       "      <td>0</td>\n",
       "      <td>0</td>\n",
       "      <td>0</td>\n",
       "      <td>0</td>\n",
       "      <td>0</td>\n",
       "      <td>7</td>\n",
       "      <td>2008</td>\n",
       "      <td>WD</td>\n",
       "      <td>Normal</td>\n",
       "    </tr>\n",
       "    <tr>\n",
       "      <th>303</th>\n",
       "      <td>20</td>\n",
       "      <td>RL</td>\n",
       "      <td>13704</td>\n",
       "      <td>Pave</td>\n",
       "      <td>IR1</td>\n",
       "      <td>Lvl</td>\n",
       "      <td>AllPub</td>\n",
       "      <td>Corner</td>\n",
       "      <td>Gtl</td>\n",
       "      <td>CollgCr</td>\n",
       "      <td>...</td>\n",
       "      <td>81</td>\n",
       "      <td>0</td>\n",
       "      <td>0</td>\n",
       "      <td>0</td>\n",
       "      <td>0</td>\n",
       "      <td>0</td>\n",
       "      <td>1</td>\n",
       "      <td>2006</td>\n",
       "      <td>WD</td>\n",
       "      <td>Normal</td>\n",
       "    </tr>\n",
       "  </tbody>\n",
       "</table>\n",
       "<p>5 rows × 60 columns</p>\n",
       "</div>"
      ],
      "text/plain": [
       "     MSSubClass MSZoning  LotArea Street LotShape LandContour Utilities  \\\n",
       "Id                                                                        \n",
       "619          20       RL    11694   Pave      Reg         Lvl    AllPub   \n",
       "871          20       RL     6600   Pave      Reg         Lvl    AllPub   \n",
       "93           30       RL    13360   Pave      IR1         HLS    AllPub   \n",
       "818          20       RL    13265   Pave      IR1         Lvl    AllPub   \n",
       "303          20       RL    13704   Pave      IR1         Lvl    AllPub   \n",
       "\n",
       "    LotConfig LandSlope Neighborhood  ... OpenPorchSF EnclosedPorch 3SsnPorch  \\\n",
       "Id                                    ...                                       \n",
       "619    Inside       Gtl      NridgHt  ...         108             0         0   \n",
       "871    Inside       Gtl        NAmes  ...           0             0         0   \n",
       "93     Inside       Gtl      Crawfor  ...           0            44         0   \n",
       "818   CulDSac       Gtl      Mitchel  ...          59             0         0   \n",
       "303    Corner       Gtl      CollgCr  ...          81             0         0   \n",
       "\n",
       "    ScreenPorch  PoolArea  MiscVal  MoSold  YrSold SaleType SaleCondition  \n",
       "Id                                                                         \n",
       "619         260         0        0       7    2007      New       Partial  \n",
       "871           0         0        0       8    2009       WD        Normal  \n",
       "93            0         0        0       8    2009       WD        Normal  \n",
       "818           0         0        0       7    2008       WD        Normal  \n",
       "303           0         0        0       1    2006       WD        Normal  \n",
       "\n",
       "[5 rows x 60 columns]"
      ]
     },
     "execution_count": 3,
     "metadata": {},
     "output_type": "execute_result"
    }
   ],
   "source": [
    "X_train.head()"
   ]
  },
  {
   "cell_type": "code",
   "execution_count": 4,
   "id": "d060a6ad",
   "metadata": {
    "execution": {
     "iopub.execute_input": "2021-08-24T21:34:29.010237Z",
     "iopub.status.busy": "2021-08-24T21:34:29.009423Z",
     "iopub.status.idle": "2021-08-24T21:34:29.014165Z",
     "shell.execute_reply": "2021-08-24T21:34:29.013617Z",
     "shell.execute_reply.started": "2021-08-24T14:50:13.880565Z"
    },
    "papermill": {
     "duration": 0.053153,
     "end_time": "2021-08-24T21:34:29.014321",
     "exception": false,
     "start_time": "2021-08-24T21:34:28.961168",
     "status": "completed"
    },
    "tags": []
   },
   "outputs": [
    {
     "name": "stdout",
     "output_type": "stream",
     "text": [
      "Index(['animals', 'cars', 'electronics', 'pets'], dtype='object')\n",
      "['animals', 'electronics', 'pets']\n"
     ]
    }
   ],
   "source": [
    "import pandas as pd\n",
    "one = {\n",
    "    'animals': ['cat', 'dog', 'parrot'],\n",
    "    'cars' : ['range_rover', \"patfinder\", \"lexus\"],\n",
    "    'electronics' : ['tv' , 'dstv', 'iphone'],\n",
    "    'pets': ['kiwi', 'goldie' , 'cookie']\n",
    "}\n",
    "two = {\n",
    "    'animals': ['cat', 'dog', 'parrot'],\n",
    "    'cars' : ['range_rover', \"lexus\" , \"Lamboghini\"],\n",
    "    'electronics' : ['tv' , 'dstv', 'iphone'],\n",
    "    'pets': ['kiwi','cookie', 'goldie' ]\n",
    "}\n",
    "\n",
    "House_two = pd.DataFrame(data=two)\n",
    "House_one = pd.DataFrame(data=one)\n",
    "col_names = House_two.columns\n",
    "print(col_names)\n",
    "identical = [ col for col in col_names if \n",
    "            set(House_one[col]).issubset(set(House_two[col]))]\n",
    "print(identical)"
   ]
  },
  {
   "cell_type": "markdown",
   "id": "7df1fd56",
   "metadata": {
    "papermill": {
     "duration": 0.033699,
     "end_time": "2021-08-24T21:34:29.082948",
     "exception": false,
     "start_time": "2021-08-24T21:34:29.049249",
     "status": "completed"
    },
    "tags": []
   },
   "source": [
    "Notice that the dataset contains both numerical and categorical variables.  You'll need to encode the categorical data before training a model.\n",
    "\n",
    "To compare different models, you'll use the same `score_dataset()` function from the tutorial.  This function reports the [mean absolute error](https://en.wikipedia.org/wiki/Mean_absolute_error) (MAE) from a random forest model."
   ]
  },
  {
   "cell_type": "code",
   "execution_count": 5,
   "id": "fc38361e",
   "metadata": {
    "execution": {
     "iopub.execute_input": "2021-08-24T21:34:29.156864Z",
     "iopub.status.busy": "2021-08-24T21:34:29.156146Z",
     "iopub.status.idle": "2021-08-24T21:34:29.378610Z",
     "shell.execute_reply": "2021-08-24T21:34:29.378009Z",
     "shell.execute_reply.started": "2021-08-24T21:26:48.880054Z"
    },
    "papermill": {
     "duration": 0.259862,
     "end_time": "2021-08-24T21:34:29.378782",
     "exception": false,
     "start_time": "2021-08-24T21:34:29.118920",
     "status": "completed"
    },
    "tags": []
   },
   "outputs": [],
   "source": [
    "from sklearn.ensemble import RandomForestRegressor\n",
    "from sklearn.metrics import mean_absolute_error\n",
    "\n",
    "# function for comparing different approaches\n",
    "def score_dataset(X_train, X_valid, y_train, y_valid):\n",
    "    model = RandomForestRegressor(n_estimators=100, random_state=0)\n",
    "    model.fit(X_train, y_train)\n",
    "    preds = model.predict(X_valid)\n",
    "    return mean_absolute_error(y_valid, preds)"
   ]
  },
  {
   "cell_type": "markdown",
   "id": "59b48a8a",
   "metadata": {
    "papermill": {
     "duration": 0.033665,
     "end_time": "2021-08-24T21:34:29.447498",
     "exception": false,
     "start_time": "2021-08-24T21:34:29.413833",
     "status": "completed"
    },
    "tags": []
   },
   "source": [
    "# Step 1: Drop columns with categorical data\n",
    "\n",
    "You'll get started with the most straightforward approach.  Use the code cell below to preprocess the data in `X_train` and `X_valid` to remove columns with categorical data.  Set the preprocessed DataFrames to `drop_X_train` and `drop_X_valid`, respectively.  "
   ]
  },
  {
   "cell_type": "code",
   "execution_count": 6,
   "id": "a21338b4",
   "metadata": {
    "execution": {
     "iopub.execute_input": "2021-08-24T21:34:29.526031Z",
     "iopub.status.busy": "2021-08-24T21:34:29.518349Z",
     "iopub.status.idle": "2021-08-24T21:34:29.544837Z",
     "shell.execute_reply": "2021-08-24T21:34:29.544160Z",
     "shell.execute_reply.started": "2021-08-24T21:27:01.435804Z"
    },
    "papermill": {
     "duration": 0.063618,
     "end_time": "2021-08-24T21:34:29.545095",
     "exception": false,
     "start_time": "2021-08-24T21:34:29.481477",
     "status": "completed"
    },
    "tags": []
   },
   "outputs": [
    {
     "name": "stdout",
     "output_type": "stream",
     "text": [
      "      MSSubClass  LotArea  OverallQual  OverallCond  YearBuilt  YearRemodAdd  \\\n",
      "Id                                                                             \n",
      "619           20    11694            9            5       2007          2007   \n",
      "871           20     6600            5            5       1962          1962   \n",
      "93            30    13360            5            7       1921          2006   \n",
      "818           20    13265            8            5       2002          2002   \n",
      "303           20    13704            7            5       2001          2002   \n",
      "...          ...      ...          ...          ...        ...           ...   \n",
      "764           60     9430            8            5       1999          1999   \n",
      "836           20     9600            4            7       1950          1995   \n",
      "1217          90     8930            6            5       1978          1978   \n",
      "560          120     3196            7            5       2003          2004   \n",
      "685           60    16770            7            5       1998          1998   \n",
      "\n",
      "      BsmtFinSF1  BsmtFinSF2  BsmtUnfSF  TotalBsmtSF  ...  GarageArea  \\\n",
      "Id                                                    ...               \n",
      "619           48           0       1774         1822  ...         774   \n",
      "871            0           0        894          894  ...         308   \n",
      "93           713           0        163          876  ...         432   \n",
      "818         1218           0        350         1568  ...         857   \n",
      "303            0           0       1541         1541  ...         843   \n",
      "...          ...         ...        ...          ...  ...         ...   \n",
      "764         1163           0         89         1252  ...         856   \n",
      "836          442           0        625         1067  ...         436   \n",
      "1217           0           0          0            0  ...         539   \n",
      "560            0           0       1374         1374  ...         420   \n",
      "685            0           0       1195         1195  ...         486   \n",
      "\n",
      "      WoodDeckSF  OpenPorchSF  EnclosedPorch  3SsnPorch  ScreenPorch  \\\n",
      "Id                                                                     \n",
      "619            0          108              0          0          260   \n",
      "871            0            0              0          0            0   \n",
      "93             0            0             44          0            0   \n",
      "818          150           59              0          0            0   \n",
      "303          468           81              0          0            0   \n",
      "...          ...          ...            ...        ...          ...   \n",
      "764            0          128              0          0          180   \n",
      "836          290            0              0          0            0   \n",
      "1217           0            0              0          0            0   \n",
      "560          143           20              0          0            0   \n",
      "685            0           81              0          0            0   \n",
      "\n",
      "      PoolArea  MiscVal  MoSold  YrSold  \n",
      "Id                                       \n",
      "619          0        0       7    2007  \n",
      "871          0        0       8    2009  \n",
      "93           0        0       8    2009  \n",
      "818          0        0       7    2008  \n",
      "303          0        0       1    2006  \n",
      "...        ...      ...     ...     ...  \n",
      "764          0        0       7    2009  \n",
      "836          0        0       2    2010  \n",
      "1217         0        0       4    2010  \n",
      "560          0        0      10    2006  \n",
      "685          0        0       6    2010  \n",
      "\n",
      "[1168 rows x 33 columns]\n"
     ]
    },
    {
     "data": {
      "application/javascript": [
       "parent.postMessage({\"jupyterEvent\": \"custom.exercise_interaction\", \"data\": {\"outcomeType\": 1, \"valueTowardsCompletion\": 0.5, \"interactionType\": 1, \"questionType\": 2, \"questionId\": \"1_Drop\", \"learnToolsVersion\": \"0.3.4\", \"failureMessage\": \"\", \"exceptionClass\": \"\", \"trace\": \"\"}}, \"*\")"
      ],
      "text/plain": [
       "<IPython.core.display.Javascript object>"
      ]
     },
     "metadata": {},
     "output_type": "display_data"
    },
    {
     "data": {
      "text/markdown": [
       "<span style=\"color:#33cc33\">Correct</span>"
      ],
      "text/plain": [
       "Correct"
      ]
     },
     "metadata": {},
     "output_type": "display_data"
    }
   ],
   "source": [
    "# Fill in the lines below: drop columns in training and validation data\n",
    "drop_X_train = X_train.select_dtypes(exclude=['object'])\n",
    "drop_X_valid = X_valid.select_dtypes(exclude=['object'])\n",
    "print(drop_X_train)\n",
    "\n",
    "# Check your answers\n",
    "step_1.check()"
   ]
  },
  {
   "cell_type": "code",
   "execution_count": 7,
   "id": "167f7407",
   "metadata": {
    "execution": {
     "iopub.execute_input": "2021-08-24T21:34:29.621698Z",
     "iopub.status.busy": "2021-08-24T21:34:29.620907Z",
     "iopub.status.idle": "2021-08-24T21:34:29.623584Z",
     "shell.execute_reply": "2021-08-24T21:34:29.624046Z"
    },
    "papermill": {
     "duration": 0.043293,
     "end_time": "2021-08-24T21:34:29.624252",
     "exception": false,
     "start_time": "2021-08-24T21:34:29.580959",
     "status": "completed"
    },
    "tags": []
   },
   "outputs": [],
   "source": [
    "# Lines below will give you a hint or solution code\n",
    "#step_1.hint()\n",
    "#step_1.solution()"
   ]
  },
  {
   "cell_type": "markdown",
   "id": "c7e82b2d",
   "metadata": {
    "papermill": {
     "duration": 0.035141,
     "end_time": "2021-08-24T21:34:29.695191",
     "exception": false,
     "start_time": "2021-08-24T21:34:29.660050",
     "status": "completed"
    },
    "tags": []
   },
   "source": [
    "Run the next code cell to get the MAE for this approach."
   ]
  },
  {
   "cell_type": "code",
   "execution_count": 8,
   "id": "febbea1c",
   "metadata": {
    "execution": {
     "iopub.execute_input": "2021-08-24T21:34:29.825006Z",
     "iopub.status.busy": "2021-08-24T21:34:29.788778Z",
     "iopub.status.idle": "2021-08-24T21:34:31.057956Z",
     "shell.execute_reply": "2021-08-24T21:34:31.057313Z",
     "shell.execute_reply.started": "2021-08-24T21:27:06.615713Z"
    },
    "papermill": {
     "duration": 1.32767,
     "end_time": "2021-08-24T21:34:31.058093",
     "exception": false,
     "start_time": "2021-08-24T21:34:29.730423",
     "status": "completed"
    },
    "tags": []
   },
   "outputs": [
    {
     "name": "stdout",
     "output_type": "stream",
     "text": [
      "MAE from Approach 1 (Drop categorical variables):\n",
      "17837.82570776256\n"
     ]
    }
   ],
   "source": [
    "print(\"MAE from Approach 1 (Drop categorical variables):\")\n",
    "print(score_dataset(drop_X_train, drop_X_valid, y_train, y_valid))"
   ]
  },
  {
   "cell_type": "markdown",
   "id": "47263f6a",
   "metadata": {
    "papermill": {
     "duration": 0.035741,
     "end_time": "2021-08-24T21:34:31.130474",
     "exception": false,
     "start_time": "2021-08-24T21:34:31.094733",
     "status": "completed"
    },
    "tags": []
   },
   "source": [
    "Before jumping into ordinal encoding, we'll investigate the dataset.  Specifically, we'll look at the `'Condition2'` column.  The code cell below prints the unique entries in both the training and validation sets."
   ]
  },
  {
   "cell_type": "code",
   "execution_count": 9,
   "id": "0c47bb20",
   "metadata": {
    "execution": {
     "iopub.execute_input": "2021-08-24T21:34:31.213771Z",
     "iopub.status.busy": "2021-08-24T21:34:31.212810Z",
     "iopub.status.idle": "2021-08-24T21:34:31.218242Z",
     "shell.execute_reply": "2021-08-24T21:34:31.217713Z",
     "shell.execute_reply.started": "2021-08-24T21:27:14.055290Z"
    },
    "papermill": {
     "duration": 0.051704,
     "end_time": "2021-08-24T21:34:31.218378",
     "exception": false,
     "start_time": "2021-08-24T21:34:31.166674",
     "status": "completed"
    },
    "tags": []
   },
   "outputs": [
    {
     "name": "stdout",
     "output_type": "stream",
     "text": [
      "Id\n",
      "619     Norm\n",
      "871     Norm\n",
      "93      Norm\n",
      "818     Norm\n",
      "303     Norm\n",
      "        ... \n",
      "764     Norm\n",
      "836     Norm\n",
      "1217    Norm\n",
      "560     Norm\n",
      "685     Norm\n",
      "Name: Condition2, Length: 1168, dtype: object\n",
      "Unique values in 'Condition2' column in training data: ['Norm' 'PosA' 'Feedr' 'PosN' 'Artery' 'RRAe']\n",
      "\n",
      "Unique values in 'Condition2' column in validation data: ['Norm' 'RRAn' 'RRNn' 'Artery' 'Feedr' 'PosN']\n"
     ]
    }
   ],
   "source": [
    "print(X_train['Condition2'])\n",
    "print(\"Unique values in 'Condition2' column in training data:\", X_train['Condition2'].unique())\n",
    "print(\"\\nUnique values in 'Condition2' column in validation data:\", X_valid['Condition2'].unique())\n"
   ]
  },
  {
   "cell_type": "markdown",
   "id": "46725862",
   "metadata": {
    "papermill": {
     "duration": 0.036026,
     "end_time": "2021-08-24T21:34:31.290762",
     "exception": false,
     "start_time": "2021-08-24T21:34:31.254736",
     "status": "completed"
    },
    "tags": []
   },
   "source": [
    "# Step 2: Ordinal encoding\n",
    "\n",
    "### Part A\n",
    "\n",
    "If you now write code to: \n",
    "- fit an ordinal encoder to the training data, and then \n",
    "- use it to transform both the training and validation data, \n",
    "\n",
    "you'll get an error.  Can you see why this is the case?  (_You'll need  to use the above output to answer this question._)"
   ]
  },
  {
   "cell_type": "code",
   "execution_count": 10,
   "id": "0dd1bcf7",
   "metadata": {
    "execution": {
     "iopub.execute_input": "2021-08-24T21:34:31.370219Z",
     "iopub.status.busy": "2021-08-24T21:34:31.369230Z",
     "iopub.status.idle": "2021-08-24T21:34:31.376225Z",
     "shell.execute_reply": "2021-08-24T21:34:31.375649Z",
     "shell.execute_reply.started": "2021-08-24T21:27:18.525936Z"
    },
    "papermill": {
     "duration": 0.049254,
     "end_time": "2021-08-24T21:34:31.376384",
     "exception": false,
     "start_time": "2021-08-24T21:34:31.327130",
     "status": "completed"
    },
    "tags": []
   },
   "outputs": [
    {
     "data": {
      "application/javascript": [
       "parent.postMessage({\"jupyterEvent\": \"custom.exercise_interaction\", \"data\": {\"outcomeType\": 1, \"valueTowardsCompletion\": 0.5, \"interactionType\": 1, \"questionType\": 4, \"questionId\": \"2.1_LabelA\", \"learnToolsVersion\": \"0.3.4\", \"failureMessage\": \"\", \"exceptionClass\": \"\", \"trace\": \"\"}}, \"*\")"
      ],
      "text/plain": [
       "<IPython.core.display.Javascript object>"
      ]
     },
     "metadata": {},
     "output_type": "display_data"
    },
    {
     "data": {
      "text/markdown": [
       "<span style=\"color:#33cc33\">Correct:</span> \n",
       "\n",
       "Fitting an ordinal encoder to a column in the training data creates a corresponding integer-valued label for each unique value **that appears in the training data**. In the case that the validation data contains values that don't also appear in the training data, the encoder will throw an error, because these values won't have an integer assigned to them.  Notice that the `'Condition2'` column in the validation data contains the values `'RRAn'` and `'RRNn'`, but these don't appear in the training data -- thus, if we try to use an ordinal encoder with scikit-learn, the code will throw an error."
      ],
      "text/plain": [
       "Correct: \n",
       "\n",
       "Fitting an ordinal encoder to a column in the training data creates a corresponding integer-valued label for each unique value **that appears in the training data**. In the case that the validation data contains values that don't also appear in the training data, the encoder will throw an error, because these values won't have an integer assigned to them.  Notice that the `'Condition2'` column in the validation data contains the values `'RRAn'` and `'RRNn'`, but these don't appear in the training data -- thus, if we try to use an ordinal encoder with scikit-learn, the code will throw an error."
      ]
     },
     "metadata": {},
     "output_type": "display_data"
    }
   ],
   "source": [
    "# Check your answer (Run this code cell to receive credit!)\n",
    "step_2.a.check()"
   ]
  },
  {
   "cell_type": "code",
   "execution_count": 11,
   "id": "ff325c40",
   "metadata": {
    "execution": {
     "iopub.execute_input": "2021-08-24T21:34:31.458065Z",
     "iopub.status.busy": "2021-08-24T21:34:31.457378Z",
     "iopub.status.idle": "2021-08-24T21:34:31.460053Z",
     "shell.execute_reply": "2021-08-24T21:34:31.460577Z"
    },
    "papermill": {
     "duration": 0.046492,
     "end_time": "2021-08-24T21:34:31.460803",
     "exception": false,
     "start_time": "2021-08-24T21:34:31.414311",
     "status": "completed"
    },
    "tags": []
   },
   "outputs": [],
   "source": [
    "#step_2.a.hint()"
   ]
  },
  {
   "cell_type": "markdown",
   "id": "2bf0dd57",
   "metadata": {
    "papermill": {
     "duration": 0.04046,
     "end_time": "2021-08-24T21:34:31.542096",
     "exception": false,
     "start_time": "2021-08-24T21:34:31.501636",
     "status": "completed"
    },
    "tags": []
   },
   "source": [
    "This is a common problem that you'll encounter with real-world data, and there are many approaches to fixing this issue.  For instance, you can write a custom ordinal encoder to deal with new categories.  The simplest approach, however, is to drop the problematic categorical columns.  \n",
    "\n",
    "Run the code cell below to save the problematic columns to a Python list `bad_label_cols`.  Likewise, columns that can be safely ordinal encoded are stored in `good_label_cols`."
   ]
  },
  {
   "cell_type": "code",
   "execution_count": 12,
   "id": "dc901275",
   "metadata": {
    "execution": {
     "iopub.execute_input": "2021-08-24T21:34:31.622895Z",
     "iopub.status.busy": "2021-08-24T21:34:31.621930Z",
     "iopub.status.idle": "2021-08-24T21:34:31.660563Z",
     "shell.execute_reply": "2021-08-24T21:34:31.659931Z",
     "shell.execute_reply.started": "2021-08-24T21:27:26.772704Z"
    },
    "papermill": {
     "duration": 0.080826,
     "end_time": "2021-08-24T21:34:31.660736",
     "exception": false,
     "start_time": "2021-08-24T21:34:31.579910",
     "status": "completed"
    },
    "tags": []
   },
   "outputs": [
    {
     "name": "stdout",
     "output_type": "stream",
     "text": [
      "['MSZoning', 'Street', 'LotShape', 'LandContour', 'Utilities', 'LotConfig', 'LandSlope', 'Neighborhood', 'Condition1', 'Condition2', 'BldgType', 'HouseStyle', 'RoofStyle', 'RoofMatl', 'Exterior1st', 'Exterior2nd', 'ExterQual', 'ExterCond', 'Foundation', 'Heating', 'HeatingQC', 'CentralAir', 'KitchenQual', 'Functional', 'PavedDrive', 'SaleType', 'SaleCondition'] \n",
      "\n",
      "\t\n",
      "['MSZoning', 'Street', 'LotShape', 'LandContour', 'Utilities', 'LotConfig', 'LandSlope', 'Neighborhood', 'Condition1', 'BldgType', 'HouseStyle', 'RoofStyle', 'Exterior1st', 'Exterior2nd', 'ExterQual', 'ExterCond', 'Foundation', 'Heating', 'HeatingQC', 'CentralAir', 'KitchenQual', 'PavedDrive', 'SaleType', 'SaleCondition'] \n",
      "\n",
      "\t\n",
      "{'RoofMatl', 'Condition2', 'Functional'} \n",
      "\n",
      "\t\n",
      "Categorical columns that will be ordinal encoded: ['MSZoning', 'Street', 'LotShape', 'LandContour', 'Utilities', 'LotConfig', 'LandSlope', 'Neighborhood', 'Condition1', 'BldgType', 'HouseStyle', 'RoofStyle', 'Exterior1st', 'Exterior2nd', 'ExterQual', 'ExterCond', 'Foundation', 'Heating', 'HeatingQC', 'CentralAir', 'KitchenQual', 'PavedDrive', 'SaleType', 'SaleCondition']\n",
      "\n",
      "Categorical columns that will be dropped from the dataset: ['RoofMatl', 'Condition2', 'Functional']\n",
      "n unique is :  MSZoning          5\n",
      "Street            2\n",
      "LotShape          4\n",
      "LandContour       4\n",
      "Utilities         2\n",
      "LotConfig         5\n",
      "LandSlope         3\n",
      "Neighborhood     25\n",
      "Condition1        9\n",
      "Condition2        6\n",
      "BldgType          5\n",
      "HouseStyle        8\n",
      "RoofStyle         6\n",
      "RoofMatl          7\n",
      "Exterior1st      15\n",
      "Exterior2nd      16\n",
      "ExterQual         4\n",
      "ExterCond         5\n",
      "Foundation        6\n",
      "Heating           6\n",
      "HeatingQC         5\n",
      "CentralAir        2\n",
      "KitchenQual       4\n",
      "Functional        6\n",
      "PavedDrive        3\n",
      "SaleType          9\n",
      "SaleCondition     6\n",
      "dtype: int64\n"
     ]
    }
   ],
   "source": [
    "# Categorical columns in the training data\n",
    "object_cols = [col for col in X_train.columns if X_train[col].dtype == \"object\"]\n",
    "\n",
    "# Columns that can be safely ordinal encoded\n",
    "good_label_cols = [col for col in object_cols if \n",
    "                   set(X_valid[col]).issubset(set(X_train[col]))]\n",
    "print(object_cols , \"\\n\\n\\t\")\n",
    "print(good_label_cols    , \"\\n\\n\\t\")\n",
    "print(set(object_cols) - set(good_label_cols)   , \"\\n\\n\\t\")\n",
    "\n",
    "        \n",
    "# Problematic columns that will be dropped from the dataset\n",
    "bad_label_cols = list(set(object_cols)-set(good_label_cols))\n",
    "        \n",
    "print('Categorical columns that will be ordinal encoded:', good_label_cols)\n",
    "print('\\nCategorical columns that will be dropped from the dataset:', bad_label_cols)\n",
    "print(\"n unique is : \" , X_train[object_cols].nunique())"
   ]
  },
  {
   "cell_type": "markdown",
   "id": "05d701a2",
   "metadata": {
    "papermill": {
     "duration": 0.039015,
     "end_time": "2021-08-24T21:34:31.739129",
     "exception": false,
     "start_time": "2021-08-24T21:34:31.700114",
     "status": "completed"
    },
    "tags": []
   },
   "source": [
    "### Part B\n",
    "\n",
    "Use the next code cell to ordinal encode the data in `X_train` and `X_valid`.  Set the preprocessed DataFrames to `label_X_train` and `label_X_valid`, respectively.  \n",
    "- We have provided code below to drop the categorical columns in `bad_label_cols` from the dataset. \n",
    "- You should ordinal encode the categorical columns in `good_label_cols`.  "
   ]
  },
  {
   "cell_type": "code",
   "execution_count": 13,
   "id": "196a395e",
   "metadata": {
    "execution": {
     "iopub.execute_input": "2021-08-24T21:34:31.827701Z",
     "iopub.status.busy": "2021-08-24T21:34:31.826999Z",
     "iopub.status.idle": "2021-08-24T21:34:31.915625Z",
     "shell.execute_reply": "2021-08-24T21:34:31.916225Z",
     "shell.execute_reply.started": "2021-08-24T21:27:39.337924Z"
    },
    "papermill": {
     "duration": 0.138274,
     "end_time": "2021-08-24T21:34:31.916393",
     "exception": false,
     "start_time": "2021-08-24T21:34:31.778119",
     "status": "completed"
    },
    "tags": []
   },
   "outputs": [
    {
     "name": "stdout",
     "output_type": "stream",
     "text": [
      "      MSZoning  Street  LotShape  LandContour  Utilities  LotConfig  \\\n",
      "Id                                                                    \n",
      "619        3.0     1.0       3.0          3.0        0.0        4.0   \n",
      "871        3.0     1.0       3.0          3.0        0.0        4.0   \n",
      "93         3.0     1.0       0.0          1.0        0.0        4.0   \n",
      "818        3.0     1.0       0.0          3.0        0.0        1.0   \n",
      "303        3.0     1.0       0.0          3.0        0.0        0.0   \n",
      "...        ...     ...       ...          ...        ...        ...   \n",
      "764        3.0     1.0       3.0          3.0        0.0        4.0   \n",
      "836        3.0     1.0       3.0          3.0        0.0        4.0   \n",
      "1217       4.0     1.0       3.0          3.0        0.0        4.0   \n",
      "560        3.0     1.0       3.0          3.0        0.0        4.0   \n",
      "685        3.0     1.0       1.0          3.0        0.0        1.0   \n",
      "\n",
      "      LandSlope  Neighborhood  Condition1  BldgType  ...  ExterQual  \\\n",
      "Id                                                   ...              \n",
      "619         0.0          16.0         2.0       0.0  ...        0.0   \n",
      "871         0.0          12.0         4.0       0.0  ...        3.0   \n",
      "93          0.0           6.0         2.0       0.0  ...        3.0   \n",
      "818         0.0          11.0         2.0       0.0  ...        2.0   \n",
      "303         0.0           5.0         2.0       0.0  ...        2.0   \n",
      "...         ...           ...         ...       ...  ...        ...   \n",
      "764         0.0          15.0         2.0       0.0  ...        2.0   \n",
      "836         0.0          19.0         2.0       0.0  ...        3.0   \n",
      "1217        0.0          19.0         5.0       2.0  ...        3.0   \n",
      "560         0.0           0.0         2.0       4.0  ...        2.0   \n",
      "685         0.0          15.0         2.0       0.0  ...        2.0   \n",
      "\n",
      "      ExterCond  Foundation  Heating  HeatingQC  CentralAir  KitchenQual  \\\n",
      "Id                                                                         \n",
      "619         4.0         2.0      1.0        0.0         1.0          2.0   \n",
      "871         4.0         1.0      1.0        2.0         0.0          3.0   \n",
      "93          2.0         0.0      1.0        0.0         1.0          3.0   \n",
      "818         4.0         2.0      1.0        0.0         1.0          2.0   \n",
      "303         4.0         2.0      1.0        0.0         1.0          2.0   \n",
      "...         ...         ...      ...        ...         ...          ...   \n",
      "764         4.0         2.0      1.0        0.0         1.0          2.0   \n",
      "836         4.0         1.0      1.0        4.0         1.0          2.0   \n",
      "1217        4.0         3.0      1.0        4.0         1.0          3.0   \n",
      "560         4.0         2.0      1.0        0.0         1.0          2.0   \n",
      "685         4.0         2.0      1.0        2.0         1.0          3.0   \n",
      "\n",
      "      PavedDrive  SaleType  SaleCondition  \n",
      "Id                                         \n",
      "619          2.0       6.0            5.0  \n",
      "871          2.0       8.0            4.0  \n",
      "93           2.0       8.0            4.0  \n",
      "818          2.0       8.0            4.0  \n",
      "303          2.0       8.0            4.0  \n",
      "...          ...       ...            ...  \n",
      "764          2.0       8.0            4.0  \n",
      "836          2.0       8.0            4.0  \n",
      "1217         2.0       8.0            4.0  \n",
      "560          2.0       8.0            4.0  \n",
      "685          2.0       8.0            4.0  \n",
      "\n",
      "[1168 rows x 24 columns]\n"
     ]
    },
    {
     "data": {
      "application/javascript": [
       "parent.postMessage({\"jupyterEvent\": \"custom.exercise_interaction\", \"data\": {\"outcomeType\": 1, \"valueTowardsCompletion\": 0.5, \"interactionType\": 1, \"questionType\": 2, \"questionId\": \"2.2_LabelB\", \"learnToolsVersion\": \"0.3.4\", \"failureMessage\": \"\", \"exceptionClass\": \"\", \"trace\": \"\"}}, \"*\")"
      ],
      "text/plain": [
       "<IPython.core.display.Javascript object>"
      ]
     },
     "metadata": {},
     "output_type": "display_data"
    },
    {
     "data": {
      "text/markdown": [
       "<span style=\"color:#33cc33\">Correct</span>"
      ],
      "text/plain": [
       "Correct"
      ]
     },
     "metadata": {},
     "output_type": "display_data"
    }
   ],
   "source": [
    "from sklearn.preprocessing import OrdinalEncoder\n",
    "\n",
    "# Drop categorical columns that will not be encoded\n",
    "label_X_train = X_train.drop(bad_label_cols, axis=1)\n",
    "label_X_valid = X_valid.drop(bad_label_cols, axis=1)\n",
    "\n",
    "# Apply ordinal encoder \n",
    "ordinal_encoder = OrdinalEncoder()\n",
    "label_X_train[good_label_cols] = ordinal_encoder.fit_transform(X_train[good_label_cols])\n",
    "label_X_valid[good_label_cols] = ordinal_encoder.transform(X_valid[good_label_cols])\n",
    "print(label_X_train[good_label_cols])\n",
    "    \n",
    "# Check your answer\n",
    "step_2.b.check()"
   ]
  },
  {
   "cell_type": "code",
   "execution_count": 14,
   "id": "2c93b07d",
   "metadata": {
    "execution": {
     "iopub.execute_input": "2021-08-24T21:34:32.003353Z",
     "iopub.status.busy": "2021-08-24T21:34:32.002372Z",
     "iopub.status.idle": "2021-08-24T21:34:32.005007Z",
     "shell.execute_reply": "2021-08-24T21:34:32.005479Z"
    },
    "papermill": {
     "duration": 0.048905,
     "end_time": "2021-08-24T21:34:32.005824",
     "exception": false,
     "start_time": "2021-08-24T21:34:31.956919",
     "status": "completed"
    },
    "tags": []
   },
   "outputs": [],
   "source": [
    "# Lines below will give you a hint or solution code\n",
    "#step_2.b.hint()\n",
    "#step_2.b.solution()"
   ]
  },
  {
   "cell_type": "markdown",
   "id": "a5d7e955",
   "metadata": {
    "papermill": {
     "duration": 0.039111,
     "end_time": "2021-08-24T21:34:32.085818",
     "exception": false,
     "start_time": "2021-08-24T21:34:32.046707",
     "status": "completed"
    },
    "tags": []
   },
   "source": [
    "Run the next code cell to get the MAE for this approach."
   ]
  },
  {
   "cell_type": "code",
   "execution_count": 15,
   "id": "6ec5a042",
   "metadata": {
    "execution": {
     "iopub.execute_input": "2021-08-24T21:34:32.169092Z",
     "iopub.status.busy": "2021-08-24T21:34:32.168150Z",
     "iopub.status.idle": "2021-08-24T21:34:33.813238Z",
     "shell.execute_reply": "2021-08-24T21:34:33.812544Z",
     "shell.execute_reply.started": "2021-08-24T21:27:46.158004Z"
    },
    "papermill": {
     "duration": 1.687431,
     "end_time": "2021-08-24T21:34:33.813416",
     "exception": false,
     "start_time": "2021-08-24T21:34:32.125985",
     "status": "completed"
    },
    "tags": []
   },
   "outputs": [
    {
     "name": "stdout",
     "output_type": "stream",
     "text": [
      "MAE from Approach 2 (Ordinal Encoding):\n",
      "17098.01649543379\n"
     ]
    }
   ],
   "source": [
    "print(\"MAE from Approach 2 (Ordinal Encoding):\") \n",
    "print(score_dataset(label_X_train, label_X_valid, y_train, y_valid))"
   ]
  },
  {
   "cell_type": "code",
   "execution_count": null,
   "id": "7eaef5cb",
   "metadata": {
    "execution": {
     "iopub.execute_input": "2021-08-24T21:16:51.949301Z",
     "iopub.status.busy": "2021-08-24T21:16:51.948912Z",
     "iopub.status.idle": "2021-08-24T21:16:55.203750Z",
     "shell.execute_reply": "2021-08-24T21:16:55.202589Z",
     "shell.execute_reply.started": "2021-08-24T21:16:51.949264Z"
    },
    "papermill": {
     "duration": 0.042692,
     "end_time": "2021-08-24T21:34:33.898107",
     "exception": false,
     "start_time": "2021-08-24T21:34:33.855415",
     "status": "completed"
    },
    "tags": []
   },
   "outputs": [],
   "source": [
    "\n"
   ]
  },
  {
   "cell_type": "markdown",
   "id": "54d7de8a",
   "metadata": {
    "papermill": {
     "duration": 0.041954,
     "end_time": "2021-08-24T21:34:33.981676",
     "exception": false,
     "start_time": "2021-08-24T21:34:33.939722",
     "status": "completed"
    },
    "tags": []
   },
   "source": [
    "So far, you've tried two different approaches to dealing with categorical variables.  And, you've seen that encoding categorical data yields better results than removing columns from the dataset.\n",
    "\n",
    "Soon, you'll try one-hot encoding.  Before then, there's one additional topic we need to cover.  Begin by running the next code cell without changes.  "
   ]
  },
  {
   "cell_type": "code",
   "execution_count": 16,
   "id": "5b71b56c",
   "metadata": {
    "execution": {
     "iopub.execute_input": "2021-08-24T21:34:34.074467Z",
     "iopub.status.busy": "2021-08-24T21:34:34.073416Z",
     "iopub.status.idle": "2021-08-24T21:34:34.092816Z",
     "shell.execute_reply": "2021-08-24T21:34:34.092167Z",
     "shell.execute_reply.started": "2021-08-24T21:27:56.028747Z"
    },
    "papermill": {
     "duration": 0.06899,
     "end_time": "2021-08-24T21:34:34.092992",
     "exception": false,
     "start_time": "2021-08-24T21:34:34.024002",
     "status": "completed"
    },
    "tags": []
   },
   "outputs": [
    {
     "data": {
      "text/plain": [
       "[('Street', 2),\n",
       " ('Utilities', 2),\n",
       " ('CentralAir', 2),\n",
       " ('LandSlope', 3),\n",
       " ('PavedDrive', 3),\n",
       " ('LotShape', 4),\n",
       " ('LandContour', 4),\n",
       " ('ExterQual', 4),\n",
       " ('KitchenQual', 4),\n",
       " ('MSZoning', 5),\n",
       " ('LotConfig', 5),\n",
       " ('BldgType', 5),\n",
       " ('ExterCond', 5),\n",
       " ('HeatingQC', 5),\n",
       " ('Condition2', 6),\n",
       " ('RoofStyle', 6),\n",
       " ('Foundation', 6),\n",
       " ('Heating', 6),\n",
       " ('Functional', 6),\n",
       " ('SaleCondition', 6),\n",
       " ('RoofMatl', 7),\n",
       " ('HouseStyle', 8),\n",
       " ('Condition1', 9),\n",
       " ('SaleType', 9),\n",
       " ('Exterior1st', 15),\n",
       " ('Exterior2nd', 16),\n",
       " ('Neighborhood', 25)]"
      ]
     },
     "execution_count": 16,
     "metadata": {},
     "output_type": "execute_result"
    }
   ],
   "source": [
    "# Get number of unique entries in each column with categorical data\n",
    "object_nunique = list(map(lambda col: X_train[col].nunique(), object_cols))\n",
    "d = dict(zip(object_cols, object_nunique))\n",
    "\n",
    "# Print number of unique entries by column, in ascending order\n",
    "sorted(d.items(), key=lambda x: x[1])"
   ]
  },
  {
   "cell_type": "markdown",
   "id": "27bc01c0",
   "metadata": {
    "papermill": {
     "duration": 0.040623,
     "end_time": "2021-08-24T21:34:34.175625",
     "exception": false,
     "start_time": "2021-08-24T21:34:34.135002",
     "status": "completed"
    },
    "tags": []
   },
   "source": [
    "# Step 3: Investigating cardinality\n",
    "\n",
    "### Part A\n",
    "\n",
    "The output above shows, for each column with categorical data, the number of unique values in the column.  For instance, the `'Street'` column in the training data has two unique values: `'Grvl'` and `'Pave'`, corresponding to a gravel road and a paved road, respectively.\n",
    "\n",
    "We refer to the number of unique entries of a categorical variable as the **cardinality** of that categorical variable.  For instance, the `'Street'` variable has cardinality 2.\n",
    "\n",
    "Use the output above to answer the questions below."
   ]
  },
  {
   "cell_type": "code",
   "execution_count": 17,
   "id": "c4a82a32",
   "metadata": {
    "execution": {
     "iopub.execute_input": "2021-08-24T21:34:34.260864Z",
     "iopub.status.busy": "2021-08-24T21:34:34.260111Z",
     "iopub.status.idle": "2021-08-24T21:34:34.268083Z",
     "shell.execute_reply": "2021-08-24T21:34:34.267462Z",
     "shell.execute_reply.started": "2021-08-24T21:28:01.490870Z"
    },
    "papermill": {
     "duration": 0.051483,
     "end_time": "2021-08-24T21:34:34.268250",
     "exception": false,
     "start_time": "2021-08-24T21:34:34.216767",
     "status": "completed"
    },
    "tags": []
   },
   "outputs": [
    {
     "data": {
      "application/javascript": [
       "parent.postMessage({\"jupyterEvent\": \"custom.exercise_interaction\", \"data\": {\"outcomeType\": 1, \"valueTowardsCompletion\": 0.5, \"interactionType\": 1, \"questionType\": 1, \"questionId\": \"3.1_CardinalityA\", \"learnToolsVersion\": \"0.3.4\", \"failureMessage\": \"\", \"exceptionClass\": \"\", \"trace\": \"\"}}, \"*\")"
      ],
      "text/plain": [
       "<IPython.core.display.Javascript object>"
      ]
     },
     "metadata": {},
     "output_type": "display_data"
    },
    {
     "data": {
      "text/markdown": [
       "<span style=\"color:#33cc33\">Correct</span>"
      ],
      "text/plain": [
       "Correct"
      ]
     },
     "metadata": {},
     "output_type": "display_data"
    }
   ],
   "source": [
    "# Fill in the line below: How many categorical variables in the training data\n",
    "# have cardinality greater than 10?\n",
    "high_cardinality_numcols = 3\n",
    "\n",
    "# Fill in the line below: How many columns are needed to one-hot encode the \n",
    "# 'Neighborhood' variable in the training data?\n",
    "num_cols_neighborhood = 25\n",
    "\n",
    "# Check your answers\n",
    "step_3.a.check()"
   ]
  },
  {
   "cell_type": "code",
   "execution_count": 18,
   "id": "82705212",
   "metadata": {
    "execution": {
     "iopub.execute_input": "2021-08-24T21:34:34.357254Z",
     "iopub.status.busy": "2021-08-24T21:34:34.356467Z",
     "iopub.status.idle": "2021-08-24T21:34:34.359440Z",
     "shell.execute_reply": "2021-08-24T21:34:34.358908Z"
    },
    "papermill": {
     "duration": 0.049451,
     "end_time": "2021-08-24T21:34:34.359655",
     "exception": false,
     "start_time": "2021-08-24T21:34:34.310204",
     "status": "completed"
    },
    "tags": []
   },
   "outputs": [],
   "source": [
    "# Lines below will give you a hint or solution code\n",
    "#step_3.a.hint()\n",
    "#step_3.a.solution()"
   ]
  },
  {
   "cell_type": "markdown",
   "id": "b2d41be7",
   "metadata": {
    "papermill": {
     "duration": 0.042716,
     "end_time": "2021-08-24T21:34:34.444734",
     "exception": false,
     "start_time": "2021-08-24T21:34:34.402018",
     "status": "completed"
    },
    "tags": []
   },
   "source": [
    "### Part B\n",
    "\n",
    "For large datasets with many rows, one-hot encoding can greatly expand the size of the dataset.  For this reason, we typically will only one-hot encode columns with relatively low cardinality.  Then, high cardinality columns can either be dropped from the dataset, or we can use ordinal encoding.\n",
    "\n",
    "As an example, consider a dataset with 10,000 rows, and containing one categorical column with 100 unique entries.  \n",
    "- If this column is replaced with the corresponding one-hot encoding, how many entries are added to the dataset?  \n",
    "- If we instead replace the column with the ordinal encoding, how many entries are added?  \n",
    "\n",
    "Use your answers to fill in the lines below."
   ]
  },
  {
   "cell_type": "code",
   "execution_count": 19,
   "id": "9f803d88",
   "metadata": {
    "execution": {
     "iopub.execute_input": "2021-08-24T21:34:34.535424Z",
     "iopub.status.busy": "2021-08-24T21:34:34.534728Z",
     "iopub.status.idle": "2021-08-24T21:34:34.541811Z",
     "shell.execute_reply": "2021-08-24T21:34:34.541123Z",
     "shell.execute_reply.started": "2021-08-24T21:28:05.970172Z"
    },
    "papermill": {
     "duration": 0.054967,
     "end_time": "2021-08-24T21:34:34.541982",
     "exception": false,
     "start_time": "2021-08-24T21:34:34.487015",
     "status": "completed"
    },
    "tags": []
   },
   "outputs": [
    {
     "data": {
      "application/javascript": [
       "parent.postMessage({\"jupyterEvent\": \"custom.exercise_interaction\", \"data\": {\"outcomeType\": 1, \"valueTowardsCompletion\": 0.5, \"interactionType\": 1, \"questionType\": 1, \"questionId\": \"3.2_CardinalityB\", \"learnToolsVersion\": \"0.3.4\", \"failureMessage\": \"\", \"exceptionClass\": \"\", \"trace\": \"\"}}, \"*\")"
      ],
      "text/plain": [
       "<IPython.core.display.Javascript object>"
      ]
     },
     "metadata": {},
     "output_type": "display_data"
    },
    {
     "data": {
      "text/markdown": [
       "<span style=\"color:#33cc33\">Correct</span>"
      ],
      "text/plain": [
       "Correct"
      ]
     },
     "metadata": {},
     "output_type": "display_data"
    }
   ],
   "source": [
    "# Fill in the line below: How many entries are added to the dataset by \n",
    "# replacing the column with a one-hot encoding?\n",
    "OH_entries_added = 990000\n",
    "\n",
    "# Fill in the line below: How many entries are added to the dataset by\n",
    "# replacing the column with an ordinal encoding?\n",
    "label_entries_added = 0\n",
    "\n",
    "\n",
    "# Check your answers\n",
    "step_3.b.check()"
   ]
  },
  {
   "cell_type": "code",
   "execution_count": 20,
   "id": "fdb6461f",
   "metadata": {
    "execution": {
     "iopub.execute_input": "2021-08-24T21:34:34.634333Z",
     "iopub.status.busy": "2021-08-24T21:34:34.633613Z",
     "iopub.status.idle": "2021-08-24T21:34:34.637075Z",
     "shell.execute_reply": "2021-08-24T21:34:34.636465Z",
     "shell.execute_reply.started": "2021-08-23T01:43:38.186865Z"
    },
    "papermill": {
     "duration": 0.051144,
     "end_time": "2021-08-24T21:34:34.637234",
     "exception": false,
     "start_time": "2021-08-24T21:34:34.586090",
     "status": "completed"
    },
    "tags": []
   },
   "outputs": [],
   "source": [
    "# Lines below will give you a hint or solution code\n",
    "#step_3.b.hint()\n",
    "#step_3.b.solution()"
   ]
  },
  {
   "cell_type": "markdown",
   "id": "89cc167f",
   "metadata": {
    "papermill": {
     "duration": 0.043014,
     "end_time": "2021-08-24T21:34:34.728010",
     "exception": false,
     "start_time": "2021-08-24T21:34:34.684996",
     "status": "completed"
    },
    "tags": []
   },
   "source": [
    "Next, you'll experiment with one-hot encoding.  But, instead of encoding all of the categorical variables in the dataset, you'll only create a one-hot encoding for columns with cardinality less than 10.\n",
    "\n",
    "Run the code cell below without changes to set `low_cardinality_cols` to a Python list containing the columns that will be one-hot encoded.  Likewise, `high_cardinality_cols` contains a list of categorical columns that will be dropped from the dataset."
   ]
  },
  {
   "cell_type": "code",
   "execution_count": 21,
   "id": "d6080371",
   "metadata": {
    "execution": {
     "iopub.execute_input": "2021-08-24T21:34:34.823141Z",
     "iopub.status.busy": "2021-08-24T21:34:34.820814Z",
     "iopub.status.idle": "2021-08-24T21:34:34.836402Z",
     "shell.execute_reply": "2021-08-24T21:34:34.835739Z",
     "shell.execute_reply.started": "2021-08-24T21:28:11.629568Z"
    },
    "papermill": {
     "duration": 0.065371,
     "end_time": "2021-08-24T21:34:34.836574",
     "exception": false,
     "start_time": "2021-08-24T21:34:34.771203",
     "status": "completed"
    },
    "tags": []
   },
   "outputs": [
    {
     "name": "stdout",
     "output_type": "stream",
     "text": [
      "Categorical columns that will be one-hot encoded: ['MSZoning', 'Street', 'LotShape', 'LandContour', 'Utilities', 'LotConfig', 'LandSlope', 'Condition1', 'Condition2', 'BldgType', 'HouseStyle', 'RoofStyle', 'RoofMatl', 'ExterQual', 'ExterCond', 'Foundation', 'Heating', 'HeatingQC', 'CentralAir', 'KitchenQual', 'Functional', 'PavedDrive', 'SaleType', 'SaleCondition']\n",
      "\n",
      "Categorical columns that will be dropped from the dataset: ['Exterior1st', 'Exterior2nd', 'Neighborhood']\n"
     ]
    }
   ],
   "source": [
    "# Columns that will be one-hot encoded\n",
    "low_cardinality_cols = [col for col in object_cols if X_train[col].nunique() < 10]\n",
    "\n",
    "# Columns that will be dropped from the dataset\n",
    "high_cardinality_cols = list(set(object_cols)-set(low_cardinality_cols))\n",
    "\n",
    "print('Categorical columns that will be one-hot encoded:', low_cardinality_cols)\n",
    "print('\\nCategorical columns that will be dropped from the dataset:', high_cardinality_cols)"
   ]
  },
  {
   "cell_type": "markdown",
   "id": "8072c027",
   "metadata": {
    "papermill": {
     "duration": 0.045022,
     "end_time": "2021-08-24T21:34:34.925162",
     "exception": false,
     "start_time": "2021-08-24T21:34:34.880140",
     "status": "completed"
    },
    "tags": []
   },
   "source": [
    "# Step 4: One-hot encoding\n",
    "\n",
    "Use the next code cell to one-hot encode the data in `X_train` and `X_valid`.  Set the preprocessed DataFrames to `OH_X_train` and `OH_X_valid`, respectively.  \n",
    "- The full list of categorical columns in the dataset can be found in the Python list `object_cols`.\n",
    "- You should only one-hot encode the categorical columns in `low_cardinality_cols`.  All other categorical columns should be dropped from the dataset. "
   ]
  },
  {
   "cell_type": "code",
   "execution_count": 22,
   "id": "30a6dec5",
   "metadata": {
    "execution": {
     "iopub.execute_input": "2021-08-24T21:34:35.030000Z",
     "iopub.status.busy": "2021-08-24T21:34:35.029077Z",
     "iopub.status.idle": "2021-08-24T21:34:35.034814Z",
     "shell.execute_reply": "2021-08-24T21:34:35.034024Z",
     "shell.execute_reply.started": "2021-08-24T21:28:15.927532Z"
    },
    "papermill": {
     "duration": 0.065574,
     "end_time": "2021-08-24T21:34:35.034974",
     "exception": false,
     "start_time": "2021-08-24T21:34:34.969400",
     "status": "completed"
    },
    "tags": []
   },
   "outputs": [
    {
     "data": {
      "text/html": [
       "<div>\n",
       "<style scoped>\n",
       "    .dataframe tbody tr th:only-of-type {\n",
       "        vertical-align: middle;\n",
       "    }\n",
       "\n",
       "    .dataframe tbody tr th {\n",
       "        vertical-align: top;\n",
       "    }\n",
       "\n",
       "    .dataframe thead th {\n",
       "        text-align: right;\n",
       "    }\n",
       "</style>\n",
       "<table border=\"1\" class=\"dataframe\">\n",
       "  <thead>\n",
       "    <tr style=\"text-align: right;\">\n",
       "      <th></th>\n",
       "      <th>Exterior1st</th>\n",
       "      <th>Exterior2nd</th>\n",
       "      <th>Neighborhood</th>\n",
       "    </tr>\n",
       "    <tr>\n",
       "      <th>Id</th>\n",
       "      <th></th>\n",
       "      <th></th>\n",
       "      <th></th>\n",
       "    </tr>\n",
       "  </thead>\n",
       "  <tbody>\n",
       "    <tr>\n",
       "      <th>619</th>\n",
       "      <td>CemntBd</td>\n",
       "      <td>CmentBd</td>\n",
       "      <td>NridgHt</td>\n",
       "    </tr>\n",
       "    <tr>\n",
       "      <th>871</th>\n",
       "      <td>MetalSd</td>\n",
       "      <td>MetalSd</td>\n",
       "      <td>NAmes</td>\n",
       "    </tr>\n",
       "    <tr>\n",
       "      <th>93</th>\n",
       "      <td>Wd Sdng</td>\n",
       "      <td>Wd Sdng</td>\n",
       "      <td>Crawfor</td>\n",
       "    </tr>\n",
       "    <tr>\n",
       "      <th>818</th>\n",
       "      <td>CemntBd</td>\n",
       "      <td>CmentBd</td>\n",
       "      <td>Mitchel</td>\n",
       "    </tr>\n",
       "    <tr>\n",
       "      <th>303</th>\n",
       "      <td>VinylSd</td>\n",
       "      <td>VinylSd</td>\n",
       "      <td>CollgCr</td>\n",
       "    </tr>\n",
       "    <tr>\n",
       "      <th>...</th>\n",
       "      <td>...</td>\n",
       "      <td>...</td>\n",
       "      <td>...</td>\n",
       "    </tr>\n",
       "    <tr>\n",
       "      <th>764</th>\n",
       "      <td>VinylSd</td>\n",
       "      <td>VinylSd</td>\n",
       "      <td>NoRidge</td>\n",
       "    </tr>\n",
       "    <tr>\n",
       "      <th>836</th>\n",
       "      <td>VinylSd</td>\n",
       "      <td>HdBoard</td>\n",
       "      <td>Sawyer</td>\n",
       "    </tr>\n",
       "    <tr>\n",
       "      <th>1217</th>\n",
       "      <td>VinylSd</td>\n",
       "      <td>VinylSd</td>\n",
       "      <td>Sawyer</td>\n",
       "    </tr>\n",
       "    <tr>\n",
       "      <th>560</th>\n",
       "      <td>VinylSd</td>\n",
       "      <td>VinylSd</td>\n",
       "      <td>Blmngtn</td>\n",
       "    </tr>\n",
       "    <tr>\n",
       "      <th>685</th>\n",
       "      <td>VinylSd</td>\n",
       "      <td>VinylSd</td>\n",
       "      <td>NoRidge</td>\n",
       "    </tr>\n",
       "  </tbody>\n",
       "</table>\n",
       "<p>1168 rows × 3 columns</p>\n",
       "</div>"
      ],
      "text/plain": [
       "     Exterior1st Exterior2nd Neighborhood\n",
       "Id                                       \n",
       "619      CemntBd     CmentBd      NridgHt\n",
       "871      MetalSd     MetalSd        NAmes\n",
       "93       Wd Sdng     Wd Sdng      Crawfor\n",
       "818      CemntBd     CmentBd      Mitchel\n",
       "303      VinylSd     VinylSd      CollgCr\n",
       "...          ...         ...          ...\n",
       "764      VinylSd     VinylSd      NoRidge\n",
       "836      VinylSd     HdBoard       Sawyer\n",
       "1217     VinylSd     VinylSd       Sawyer\n",
       "560      VinylSd     VinylSd      Blmngtn\n",
       "685      VinylSd     VinylSd      NoRidge\n",
       "\n",
       "[1168 rows x 3 columns]"
      ]
     },
     "execution_count": 22,
     "metadata": {},
     "output_type": "execute_result"
    }
   ],
   "source": [
    "X_train[high_cardinality_cols]"
   ]
  },
  {
   "cell_type": "code",
   "execution_count": 23,
   "id": "79a57aec",
   "metadata": {
    "execution": {
     "iopub.execute_input": "2021-08-24T21:34:35.148581Z",
     "iopub.status.busy": "2021-08-24T21:34:35.135447Z",
     "iopub.status.idle": "2021-08-24T21:34:35.185695Z",
     "shell.execute_reply": "2021-08-24T21:34:35.184981Z",
     "shell.execute_reply.started": "2021-08-24T21:28:34.941116Z"
    },
    "papermill": {
     "duration": 0.105923,
     "end_time": "2021-08-24T21:34:35.185842",
     "exception": false,
     "start_time": "2021-08-24T21:34:35.079919",
     "status": "completed"
    },
    "tags": []
   },
   "outputs": [
    {
     "data": {
      "application/javascript": [
       "parent.postMessage({\"jupyterEvent\": \"custom.exercise_interaction\", \"data\": {\"outcomeType\": 1, \"valueTowardsCompletion\": 0.5, \"interactionType\": 1, \"questionType\": 2, \"questionId\": \"4_OneHot\", \"learnToolsVersion\": \"0.3.4\", \"failureMessage\": \"\", \"exceptionClass\": \"\", \"trace\": \"\"}}, \"*\")"
      ],
      "text/plain": [
       "<IPython.core.display.Javascript object>"
      ]
     },
     "metadata": {},
     "output_type": "display_data"
    },
    {
     "data": {
      "text/markdown": [
       "<span style=\"color:#33cc33\">Correct</span>"
      ],
      "text/plain": [
       "Correct"
      ]
     },
     "metadata": {},
     "output_type": "display_data"
    }
   ],
   "source": [
    "from sklearn.preprocessing import OneHotEncoder\n",
    "import pandas as pd\n",
    "\n",
    "# Use as many lines of code as you need!\n",
    "one_hot_encoder = OneHotEncoder(handle_unknown=\"ignore\", sparse=False)\n",
    "\n",
    "# Transform low cardinality columns with OneHotEncoder()\n",
    "OH_X_train_encod = pd.DataFrame(one_hot_encoder.fit_transform(X_train[low_cardinality_cols]))\n",
    "OH_X_valid_encod = pd.DataFrame(one_hot_encoder.transform(X_valid[low_cardinality_cols]))\n",
    "\n",
    "# One-hot encoding removed index; put it back\n",
    "OH_X_train_encod.index = X_train.index\n",
    "OH_X_valid_encod.index = X_valid.index\n",
    "\n",
    "# Remove categorical columns (will replace with one-hot encoding)\n",
    "num_col_train = X_train.select_dtypes(exclude=[\"object\"])\n",
    "num_col_valid = X_valid.select_dtypes(exclude=[\"object\"])\n",
    "\n",
    "\n",
    "\n",
    "# Concat one-hot encoded columns to numerical features\n",
    "OH_X_train = pd.concat([num_col_train, OH_X_train_encod] , axis=1)\n",
    "OH_X_valid = pd.concat([num_col_valid, OH_X_valid_encod] , axis=1)\n",
    "\n",
    "\n",
    "# Check your answer\n",
    "step_4.check()"
   ]
  },
  {
   "cell_type": "code",
   "execution_count": 24,
   "id": "b28cac0a",
   "metadata": {
    "execution": {
     "iopub.execute_input": "2021-08-24T21:34:35.282212Z",
     "iopub.status.busy": "2021-08-24T21:34:35.281238Z",
     "iopub.status.idle": "2021-08-24T21:34:35.284771Z",
     "shell.execute_reply": "2021-08-24T21:34:35.284055Z"
    },
    "papermill": {
     "duration": 0.053009,
     "end_time": "2021-08-24T21:34:35.284931",
     "exception": false,
     "start_time": "2021-08-24T21:34:35.231922",
     "status": "completed"
    },
    "tags": []
   },
   "outputs": [],
   "source": [
    "# Lines below will give you a hint or solution code\n",
    "#step_4.hint()\n",
    "#step_4.solution()"
   ]
  },
  {
   "cell_type": "markdown",
   "id": "98383e8d",
   "metadata": {
    "papermill": {
     "duration": 0.045604,
     "end_time": "2021-08-24T21:34:35.375332",
     "exception": false,
     "start_time": "2021-08-24T21:34:35.329728",
     "status": "completed"
    },
    "tags": []
   },
   "source": [
    "Run the next code cell to get the MAE for this approach."
   ]
  },
  {
   "cell_type": "code",
   "execution_count": 25,
   "id": "dd7519a0",
   "metadata": {
    "execution": {
     "iopub.execute_input": "2021-08-24T21:34:35.474985Z",
     "iopub.status.busy": "2021-08-24T21:34:35.474296Z",
     "iopub.status.idle": "2021-08-24T21:34:37.492370Z",
     "shell.execute_reply": "2021-08-24T21:34:37.492884Z",
     "shell.execute_reply.started": "2021-08-24T21:28:49.568228Z"
    },
    "papermill": {
     "duration": 2.071622,
     "end_time": "2021-08-24T21:34:37.493099",
     "exception": false,
     "start_time": "2021-08-24T21:34:35.421477",
     "status": "completed"
    },
    "tags": []
   },
   "outputs": [
    {
     "name": "stdout",
     "output_type": "stream",
     "text": [
      "MAE from Approach 3 (One-Hot Encoding):\n",
      "17525.345719178084\n"
     ]
    }
   ],
   "source": [
    "print(\"MAE from Approach 3 (One-Hot Encoding):\") \n",
    "print(score_dataset(OH_X_train, OH_X_valid, y_train, y_valid))"
   ]
  },
  {
   "cell_type": "markdown",
   "id": "0e462f10",
   "metadata": {
    "papermill": {
     "duration": 0.045414,
     "end_time": "2021-08-24T21:34:37.584390",
     "exception": false,
     "start_time": "2021-08-24T21:34:37.538976",
     "status": "completed"
    },
    "tags": []
   },
   "source": [
    "# Generate test predictions and submit your results\n",
    "\n",
    "After you complete Step 4, if you'd like to use what you've learned to submit your results to the leaderboard, you'll need to preprocess the test data before generating predictions.\n",
    "\n",
    "**This step is completely optional, and you do not need to submit results to the leaderboard to successfully complete the exercise.**\n",
    "\n",
    "Check out the previous exercise if you need help with remembering how to [join the competition](https://www.kaggle.com/c/home-data-for-ml-course) or save your results to CSV.  Once you have generated a file with your results, follow the instructions below:\n",
    "1. Begin by clicking on the **Save Version** button in the top right corner of the window.  This will generate a pop-up window.  \n",
    "2. Ensure that the **Save and Run All** option is selected, and then click on the **Save** button.\n",
    "3. This generates a window in the bottom left corner of the notebook.  After it has finished running, click on the number to the right of the **Save Version** button.  This pulls up a list of versions on the right of the screen.  Click on the ellipsis **(...)** to the right of the most recent version, and select **Open in Viewer**.  This brings you into view mode of the same page. You will need to scroll down to get back to these instructions.\n",
    "4. Click on the **Output** tab on the right of the screen.  Then, click on the file you would like to submit, and click on the blue **Submit** button to submit your results to the leaderboard.\n",
    "\n",
    "You have now successfully submitted to the competition!\n",
    "\n",
    "If you want to keep working to improve your performance, select the **Edit** button in the top right of the screen. Then you can change your code and repeat the process. There's a lot of room to improve, and you will climb up the leaderboard as you work.\n"
   ]
  },
  {
   "cell_type": "code",
   "execution_count": 26,
   "id": "0b00c715",
   "metadata": {
    "execution": {
     "iopub.execute_input": "2021-08-24T21:34:37.690059Z",
     "iopub.status.busy": "2021-08-24T21:34:37.689011Z",
     "iopub.status.idle": "2021-08-24T21:34:40.978359Z",
     "shell.execute_reply": "2021-08-24T21:34:40.977745Z",
     "shell.execute_reply.started": "2021-08-24T21:29:02.878978Z"
    },
    "papermill": {
     "duration": 3.347742,
     "end_time": "2021-08-24T21:34:40.978536",
     "exception": false,
     "start_time": "2021-08-24T21:34:37.630794",
     "status": "completed"
    },
    "tags": []
   },
   "outputs": [
    {
     "name": "stdout",
     "output_type": "stream",
     "text": [
      "the MAE for this prediction is \n",
      "17098.01649543379\n"
     ]
    }
   ],
   "source": [
    "from sklearn.ensemble import RandomForestRegressor\n",
    "pred_model = RandomForestRegressor(n_estimators=100 , random_state=0)\n",
    "pred_model.fit(label_X_train, y_train)\n",
    "prediction = pred_model.predict(label_X_valid)\n",
    "print('the MAE for this prediction is ')\n",
    "print(score_dataset(label_X_train, label_X_valid, y_train, y_valid))"
   ]
  },
  {
   "cell_type": "code",
   "execution_count": 27,
   "id": "530f4647",
   "metadata": {
    "execution": {
     "iopub.execute_input": "2021-08-24T21:34:41.081703Z",
     "iopub.status.busy": "2021-08-24T21:34:41.080853Z",
     "iopub.status.idle": "2021-08-24T21:34:41.089832Z",
     "shell.execute_reply": "2021-08-24T21:34:41.089130Z",
     "shell.execute_reply.started": "2021-08-24T21:32:29.027657Z"
    },
    "papermill": {
     "duration": 0.061702,
     "end_time": "2021-08-24T21:34:41.089983",
     "exception": false,
     "start_time": "2021-08-24T21:34:41.028281",
     "status": "completed"
    },
    "tags": []
   },
   "outputs": [],
   "source": [
    "#  submission\n",
    "output = pd.DataFrame({'id': label_X_valid.index,\n",
    "                      'SalePrice': prediction})\n",
    "output.to_csv('submission.csv', index=False)"
   ]
  },
  {
   "cell_type": "markdown",
   "id": "01784a30",
   "metadata": {
    "papermill": {
     "duration": 0.045962,
     "end_time": "2021-08-24T21:34:41.182046",
     "exception": false,
     "start_time": "2021-08-24T21:34:41.136084",
     "status": "completed"
    },
    "tags": []
   },
   "source": [
    "# Keep going\n",
    "\n",
    "With missing value handling and categorical encoding, your modeling process is getting complex. This complexity gets worse when you want to save your model to use in the future. The key to managing this complexity is something called **pipelines**. \n",
    "\n",
    "**[Learn to use pipelines](https://www.kaggle.com/alexisbcook/pipelines)** to preprocess datasets with categorical variables, missing values and any other messiness your data throws at you."
   ]
  },
  {
   "cell_type": "markdown",
   "id": "2e2d0dbb",
   "metadata": {
    "papermill": {
     "duration": 0.045078,
     "end_time": "2021-08-24T21:34:41.273177",
     "exception": false,
     "start_time": "2021-08-24T21:34:41.228099",
     "status": "completed"
    },
    "tags": []
   },
   "source": [
    "---\n",
    "\n",
    "\n",
    "\n",
    "\n",
    "*Have questions or comments? Visit the [Learn Discussion forum](https://www.kaggle.com/learn-forum/161289) to chat with other Learners.*"
   ]
  }
 ],
 "metadata": {
  "kernelspec": {
   "display_name": "Python 3",
   "language": "python",
   "name": "python3"
  },
  "language_info": {
   "codemirror_mode": {
    "name": "ipython",
    "version": 3
   },
   "file_extension": ".py",
   "mimetype": "text/x-python",
   "name": "python",
   "nbconvert_exporter": "python",
   "pygments_lexer": "ipython3",
   "version": "3.7.10"
  },
  "papermill": {
   "default_parameters": {},
   "duration": 24.917275,
   "end_time": "2021-08-24T21:34:43.022228",
   "environment_variables": {},
   "exception": null,
   "input_path": "__notebook__.ipynb",
   "output_path": "__notebook__.ipynb",
   "parameters": {},
   "start_time": "2021-08-24T21:34:18.104953",
   "version": "2.3.3"
  }
 },
 "nbformat": 4,
 "nbformat_minor": 5
}
